{
 "cells": [
  {
   "cell_type": "code",
   "execution_count": 1,
   "metadata": {},
   "outputs": [
    {
     "name": "stderr",
     "output_type": "stream",
     "text": [
      "c:\\Users\\aruna\\AppData\\Local\\Programs\\Python\\Python312\\Lib\\site-packages\\tqdm\\auto.py:21: TqdmWarning: IProgress not found. Please update jupyter and ipywidgets. See https://ipywidgets.readthedocs.io/en/stable/user_install.html\n",
      "  from .autonotebook import tqdm as notebook_tqdm\n"
     ]
    }
   ],
   "source": [
    "#importing all our files \n",
    "#imports of unused tools not added, refer experiment.ipynb file for complete runthrough\n",
    "import pytesseract\n",
    "from PIL import Image #not using \n",
    "import cv2 \n",
    "import numpy as np\n",
    "import google.generativeai as genai  \n",
    "from pymongo import MongoClient  \n",
    "import json \n",
    "import io #not using\n",
    "import sys #not using\n"
   ]
  },
  {
   "cell_type": "markdown",
   "metadata": {},
   "source": [
    "We will be making the functions for our chosen operations\n",
    "1) OCR Extraction\n",
    "2) Classification\n",
    "3) Adding to Database\n",
    "4) update: another function was needed to parse the text as json\n",
    "5) ONE COMBINED FUNCTION FOR THE ENTIRE PROCESS THAT CALLS ALL THE ABOVE FUNCTIONS"
   ]
  },
  {
   "cell_type": "markdown",
   "metadata": {},
   "source": [
    "Making a function that will take the image location as input and then output the text extracted from the image"
   ]
  },
  {
   "cell_type": "code",
   "execution_count": 2,
   "metadata": {},
   "outputs": [
    {
     "data": {
      "text/plain": [
       "'Jordan\\n\\nMitchell\\n\\nCEO\\n\\nVanArsdel, Ltd.\\n\\n5678 Main St. New York, NY 90210\\n212-555-0199\\nwww.vanarsdelltd.com\\n\\nQ@evdanavanarsdetta.com\\n'"
      ]
     },
     "execution_count": 2,
     "metadata": {},
     "output_type": "execute_result"
    }
   ],
   "source": [
    "#function for image extraction\n",
    "def image_extract(image_location):\n",
    "    pytesseract.pytesseract.tesseract_cmd = r'C:\\Program Files\\Tesseract-OCR\\tesseract.exe' #tesseract path on pc\n",
    "    image=Image.open(image_location)\n",
    "    extracted_businesscard=pytesseract.image_to_string(image)\n",
    "    return extracted_businesscard\n",
    "   # print(extracted_businesscard)\n",
    "    \n",
    "\n",
    "image_extract(\"business cards/microsoft_business_card.png\")\n",
    "#worked"
   ]
  },
  {
   "cell_type": "markdown",
   "metadata": {},
   "source": [
    "1) make 3 functions one for extraction and one for classifying and one for putting into mongodb then make a single function combining them both\n",
    "2) making 1 single function entirely\n",
    "- I will be going with option 1 since it will make it easier for us to edit files"
   ]
  },
  {
   "cell_type": "markdown",
   "metadata": {},
   "source": [
    "Calling the classifying function"
   ]
  },
  {
   "cell_type": "markdown",
   "metadata": {},
   "source": [
    "Updated the classfying function to return null values as \"0\" since MongoDB doesnt accept the \"null\""
   ]
  },
  {
   "cell_type": "code",
   "execution_count": 3,
   "metadata": {},
   "outputs": [],
   "source": [
    "\n",
    "#FUNCTION MADE IN FUNCTION PAGE\n",
    "\n",
    "#testing with new promts\n",
    "def classify_text(image_location):\n",
    "    input_text = image_extract(image_location)  # testing 2 with business card -> kk optics\n",
    "\n",
    "    # Configure API key\n",
    "    genai.configure(api_key=\"api_key\")  # private key, I won't be putting it on github\n",
    "\n",
    "    # Define a prompt for classification\n",
    "    prompt =  f\"\"\"\n",
    "Classify the following text into the following categories depending on if you feel like that value is present or not:\n",
    "1. Company Name\n",
    "2. Person Name\n",
    "3. Job Title\n",
    "4. Email\n",
    "5. Location\n",
    "6. Phone Numbers\n",
    "7. Website\n",
    "and more based on what you feel the info is about.\n",
    "and return it in a format for storing it in a MongoDb database\n",
    "if there are null values give it 0 instead of null\n",
    "Input:\n",
    "    {input_text}\n",
    "\n",
    "\"\"\"\n",
    "\n",
    "\n",
    "    # Generate the response\n",
    "    model = genai.GenerativeModel(\"gemini-1.5-flash\")\n",
    "    response = model.generate_content(prompt)\n",
    "   # print(response.text)\n",
    "    return response.text\n",
    "\n",
    "\n",
    "\n"
   ]
  },
  {
   "cell_type": "code",
   "execution_count": 4,
   "metadata": {},
   "outputs": [],
   "source": [
    "test_text=classify_text(\"business cards/bs_card_3.jpg\") #will return our text"
   ]
  },
  {
   "cell_type": "markdown",
   "metadata": {},
   "source": [
    "Function to parse the text from as JSON for upload directly into MongoDB "
   ]
  },
  {
   "cell_type": "code",
   "execution_count": 5,
   "metadata": {},
   "outputs": [],
   "source": [
    "#trying to remove the ''' json '''' in the generated text\n",
    "\n",
    "\n",
    "\n",
    "def extract_json_content(raw_text):\n",
    "    try:\n",
    "        # Find the first occurrence of '{' and the last occurrence of '}'\n",
    "        start_index = raw_text.find('{')\n",
    "        end_index = raw_text.rfind('}')\n",
    "        \n",
    "        # Extract the JSON content\n",
    "        json_content = raw_text[start_index:end_index + 1]\n",
    "        \n",
    "        # Parse to ensure it's valid JSON\n",
    "        parsed_json = json.loads(json_content)\n",
    "        \n",
    "        # Return the parsed JSON\n",
    "        return parsed_json\n",
    "    except Exception as e:\n",
    "        print(f\"Error parsing JSON: {e}\")\n",
    "        return None\n",
    "    \n"
   ]
  },
  {
   "cell_type": "code",
   "execution_count": 6,
   "metadata": {},
   "outputs": [],
   "source": [
    "#testing the json function\n",
    "#working with  business cards/bs_card_3.jpg\n",
    "#not working with  business cards/bs_card_2.png\n",
    "#update: bs card 2 was not clear\n",
    "#worked with other cards\n",
    "test_text=classify_text(\"business cards/bs_card_2.png\")\n",
    "test_text=extract_json_content(test_text)"
   ]
  },
  {
   "cell_type": "markdown",
   "metadata": {},
   "source": [
    "The text is given in a dict format but will be recogonized by python as \"str\" which will prevent it from being added to the DB, so we are parsing it using the above function to make it a dict so that our DB accepts it"
   ]
  },
  {
   "cell_type": "code",
   "execution_count": 7,
   "metadata": {},
   "outputs": [
    {
     "data": {
      "text/plain": [
       "dict"
      ]
     },
     "execution_count": 7,
     "metadata": {},
     "output_type": "execute_result"
    }
   ],
   "source": [
    "type(test_text) #dict format to upload to MongoDB"
   ]
  },
  {
   "cell_type": "markdown",
   "metadata": {},
   "source": [
    "The commented code is a rough code which hadnt been made a fucntion"
   ]
  },
  {
   "cell_type": "code",
   "execution_count": 8,
   "metadata": {},
   "outputs": [],
   "source": [
    "#commented to avoid repeated inputs\n",
    "\n",
    "# #trying to put that into the database \n",
    "\n",
    "\n",
    "# # Connect to local MongoDB instance\n",
    "# client = MongoClient(\"mongodb://localhost:27017/\") #our local mongodb server connection key\n",
    "\n",
    "# # Access a database\n",
    "# db = client[\"business_cards\"]  # our database name\n",
    "\n",
    "# # Access a collection\n",
    "# collection = db[\"card_details\"]  # oru collection name\n",
    "\n",
    "# # Insert a document\n",
    "# data =test_text\n",
    "# collection.insert_one(data)\n",
    "\n",
    "# print(\"Document inserted successfully!\")\n",
    "\n"
   ]
  },
  {
   "cell_type": "markdown",
   "metadata": {},
   "source": [
    "Makiing a function to add a given value to the database"
   ]
  },
  {
   "cell_type": "code",
   "execution_count": 9,
   "metadata": {},
   "outputs": [],
   "source": [
    "def add_db(test_text):\n",
    "    # Connect to local MongoDB instance\n",
    "    client = MongoClient(\"mongodb://localhost:27017/\") #our local mongodb server connection key\n",
    "\n",
    "        # Access a database\n",
    "    db = client[\"business_cards\"]  # our database name\n",
    "\n",
    "    # Access a collection\n",
    "    collection = db[\"card_details\"]  # oru collection name\n",
    "\n",
    "    # Insert a document\n",
    "    data =test_text\n",
    "    collection.insert_one(data)\n",
    "\n",
    "    print(\"Document inserted successfully!\")\n"
   ]
  },
  {
   "cell_type": "markdown",
   "metadata": {},
   "source": [
    "A final function that calls all the functions we made earlier, making the process kind-of automated"
   ]
  },
  {
   "cell_type": "code",
   "execution_count": 10,
   "metadata": {},
   "outputs": [],
   "source": [
    "def card_reader_final(image_location):\n",
    "   # image_extract(image_location) might not need it to be called here\n",
    "    text=classify_text(image_location)\n",
    "    new_text=extract_json_content(text)\n",
    "    add_db(new_text)\n"
   ]
  },
  {
   "cell_type": "markdown",
   "metadata": {},
   "source": [
    "Testing with some Business Cards"
   ]
  },
  {
   "cell_type": "code",
   "execution_count": null,
   "metadata": {},
   "outputs": [],
   "source": [
    "#an optical shop business card\n",
    "#card_reader_final(\"business cards/bs_card_3.jpg\")"
   ]
  },
  {
   "cell_type": "code",
   "execution_count": 12,
   "metadata": {},
   "outputs": [],
   "source": [
    "#a random microsoft word business card\n",
    "#card_reader_final(\"business cards/microsoft_business_card.png\")"
   ]
  },
  {
   "cell_type": "code",
   "execution_count": 13,
   "metadata": {},
   "outputs": [],
   "source": [
    "#testing with my uni ID card\n",
    "#card_reader_final(\"business cards/cld_id_card.jpg\")\n"
   ]
  },
  {
   "cell_type": "code",
   "execution_count": 14,
   "metadata": {},
   "outputs": [],
   "source": [
    "#testing sugu business card\n",
    "#card_reader_final(\"business cards/sugu_bs_card.jpg\")"
   ]
  },
  {
   "cell_type": "code",
   "execution_count": 16,
   "metadata": {},
   "outputs": [
    {
     "name": "stdout",
     "output_type": "stream",
     "text": [
      "Document inserted successfully!\n"
     ]
    }
   ],
   "source": [
    "#testing pranav's uni id card\n",
    "#card_reader_final(\"business cards/pranav_id_card.jpg\")"
   ]
  },
  {
   "cell_type": "markdown",
   "metadata": {},
   "source": [
    "UPDATE: The images need to be clear for it to be uploaded, I might consider going back and making the image grayscale to improve accuracy\n",
    "- fancy texts are identified wrong sometimes"
   ]
  },
  {
   "cell_type": "markdown",
   "metadata": {},
   "source": [
    "We have created a pipeline that takes in the image_location and then extracts the text and then converts into into json and stores it into a database"
   ]
  },
  {
   "cell_type": "markdown",
   "metadata": {},
   "source": [
    "The outcomes will be provided in Readme.md file\n"
   ]
  }
 ],
 "metadata": {
  "kernelspec": {
   "display_name": "Python 3",
   "language": "python",
   "name": "python3"
  },
  "language_info": {
   "codemirror_mode": {
    "name": "ipython",
    "version": 3
   },
   "file_extension": ".py",
   "mimetype": "text/x-python",
   "name": "python",
   "nbconvert_exporter": "python",
   "pygments_lexer": "ipython3",
   "version": "3.12.1"
  }
 },
 "nbformat": 4,
 "nbformat_minor": 2
}
